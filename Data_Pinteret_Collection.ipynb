{
 "cells": [
  {
   "cell_type": "code",
   "outputs": [],
   "source": [
    "import pandas as pd\n",
    "from selenium import webdriver\n",
    "from selenium.webdriver.common.by import By\n",
    "from selenium.webdriver.common.keys import Keys\n",
    "from selenium.common.exceptions import StaleElementReferenceException\n",
    "from selenium.webdriver.support import expected_conditions as EC\n",
    "from selenium.webdriver.support.ui import WebDriverWait\n",
    "\n",
    "\n",
    "import time\n",
    "import requests\n",
    "import os\n",
    "import pandas as pd"
   ],
   "metadata": {
    "collapsed": false,
    "ExecuteTime": {
     "end_time": "2024-05-15T11:30:48.279602700Z",
     "start_time": "2024-05-15T11:30:48.252201800Z"
    }
   },
   "id": "f55d9f02951ea0fd",
   "execution_count": 100
  },
  {
   "cell_type": "markdown",
   "source": [
    "<h1> DataSet Building"
   ],
   "metadata": {
    "collapsed": false
   },
   "id": "abeb12f2c56f4621"
  },
  {
   "cell_type": "code",
   "outputs": [],
   "source": [
    "genders= [ 'men','women']\n",
    "categories= ['accessories','clothing','sports','perfumes','care','fashion','underwear']\n"
   ],
   "metadata": {
    "collapsed": false,
    "ExecuteTime": {
     "end_time": "2024-05-15T12:46:02.013780400Z",
     "start_time": "2024-05-15T12:46:02.009027500Z"
    }
   },
   "id": "5d3f4060d6101916",
   "execution_count": 122
  },
  {
   "cell_type": "code",
   "outputs": [],
   "source": [
    "def download_ads_by_topic(source_dir,gender,category,url,per_gender=True):\n",
    "\n",
    "    \n",
    "    driver = webdriver.Chrome()\n",
    "    driver.maximize_window()  \n",
    "    username = 'ravittt32@gmail.com'\n",
    "    password = 'rKremer060422'\n",
    "    driver.get('https://www.pinterest.com/')\n",
    "    \n",
    "    if per_gender == True:\n",
    "        if category == 'general':\n",
    "            search_term = f\"{gender} advertisements\" \n",
    "        else:\n",
    "            search_term = f\"{gender} {category} advertisements\" \n",
    "    else: \n",
    "        search_term = f\"{category} advertisements\"  \n",
    "    driver.get(url + search_term)\n",
    "    \n",
    "    save_dir = rf'{source_dir}\\genders\\{category}\\{gender}'\n",
    "    if not os.path.exists(save_dir):\n",
    "        os.makedirs(save_dir)\n",
    "    \n",
    "    downloaded_images = set()\n",
    "    \n",
    "    num_scrolls = 50 # go down in the page to achive more photo\n",
    "    \n",
    "    for _ in range(num_scrolls):\n",
    "        driver.find_element(By.TAG_NAME, 'body').send_keys(Keys.PAGE_DOWN)\n",
    "        time.sleep(2) \n",
    "        \n",
    "        images = driver.find_elements(By.TAG_NAME, 'img')\n",
    "        current_images = {img.get_attribute('src') for img in images if img.get_attribute('src')}\n",
    "    \n",
    "        images = driver.find_elements(By.TAG_NAME, 'img')\n",
    "        current_images = set()\n",
    "        \n",
    "        for img in images:\n",
    "            try:\n",
    "                src = img.get_attribute('src')\n",
    "                if src:\n",
    "                    current_images.add(src)\n",
    "            except StaleElementReferenceException:\n",
    "                continue\n",
    "        \n",
    "        new_images = current_images - downloaded_images\n",
    "        for src in new_images:\n",
    "            try:\n",
    "                img_response = requests.get(src)\n",
    "                filename = os.path.join(save_dir, src.split('/')[-1].split(\"?\")[0])  # Split on \"?\" to remove URL parameters\n",
    "                with open(filename, 'wb') as f:\n",
    "                    f.write(img_response.content)\n",
    "                downloaded_images.add(src)\n",
    "            except requests.exceptions.RequestException as e:\n",
    "                print(\"Failed to download an image:\", e)\n",
    "    \n",
    "    # Close the browser\n",
    "    driver.quit()\n",
    "    \n",
    "    print(f\"Download completed. Images for {gender} in {category} field are saved in:\", save_dir)\n"
   ],
   "metadata": {
    "collapsed": false,
    "ExecuteTime": {
     "end_time": "2024-05-15T12:46:02.469717600Z",
     "start_time": "2024-05-15T12:46:02.457129600Z"
    }
   },
   "id": "f0549259ce7e058d",
   "execution_count": 123
  },
  {
   "cell_type": "code",
   "outputs": [],
   "source": [
    "#per gender\n",
    "url = 'https://www.pinterest.com/search/pins/?q='\n",
    "source_dir='ads_from_pinterest' \n",
    "for gender in genders:\n",
    "    for category in categories:\n",
    "        download_ads_by_topic(source_dir,gender,category,url)      "
   ],
   "metadata": {
    "collapsed": false
   },
   "id": "e7da7e4e980b767f",
   "execution_count": null
  },
  {
   "cell_type": "code",
   "outputs": [
    {
     "data": {
      "text/plain": "                                       Ads Target audience        field\n0     000cd0c2ec48e0e268f4f0a72e63db95.jpg             men  accessories\n1     0019339fd71db7cc89506828681b07de.jpg             men  accessories\n2     004ced1eb0349ab91d19afa9d659f2f7.jpg             men  accessories\n3     01cf584a98888cd02513cd410a96eeff.jpg             men  accessories\n4     0285a1f19dd89e5bd22a56cbda7c68db.jpg             men  accessories\n...                                    ...             ...          ...\n3903  f8af3be9cd182368b4d7020b54eea05c.jpg           women    underwear\n3904  f98c31d2f52809155aa146c443a59ae1.jpg           women    underwear\n3905  fa4d5812b558a198a8e3192ba514c3e5.jpg           women    underwear\n3906  fc7b3e0235b88c5a26766f2200128f65.jpg           women    underwear\n3907  fe0965e63e3d5d1cee8f24b2134e847a.jpg           women    underwear\n\n[3908 rows x 3 columns]",
      "text/html": "<div>\n<style scoped>\n    .dataframe tbody tr th:only-of-type {\n        vertical-align: middle;\n    }\n\n    .dataframe tbody tr th {\n        vertical-align: top;\n    }\n\n    .dataframe thead th {\n        text-align: right;\n    }\n</style>\n<table border=\"1\" class=\"dataframe\">\n  <thead>\n    <tr style=\"text-align: right;\">\n      <th></th>\n      <th>Ads</th>\n      <th>Target audience</th>\n      <th>field</th>\n    </tr>\n  </thead>\n  <tbody>\n    <tr>\n      <th>0</th>\n      <td>000cd0c2ec48e0e268f4f0a72e63db95.jpg</td>\n      <td>men</td>\n      <td>accessories</td>\n    </tr>\n    <tr>\n      <th>1</th>\n      <td>0019339fd71db7cc89506828681b07de.jpg</td>\n      <td>men</td>\n      <td>accessories</td>\n    </tr>\n    <tr>\n      <th>2</th>\n      <td>004ced1eb0349ab91d19afa9d659f2f7.jpg</td>\n      <td>men</td>\n      <td>accessories</td>\n    </tr>\n    <tr>\n      <th>3</th>\n      <td>01cf584a98888cd02513cd410a96eeff.jpg</td>\n      <td>men</td>\n      <td>accessories</td>\n    </tr>\n    <tr>\n      <th>4</th>\n      <td>0285a1f19dd89e5bd22a56cbda7c68db.jpg</td>\n      <td>men</td>\n      <td>accessories</td>\n    </tr>\n    <tr>\n      <th>...</th>\n      <td>...</td>\n      <td>...</td>\n      <td>...</td>\n    </tr>\n    <tr>\n      <th>3903</th>\n      <td>f8af3be9cd182368b4d7020b54eea05c.jpg</td>\n      <td>women</td>\n      <td>underwear</td>\n    </tr>\n    <tr>\n      <th>3904</th>\n      <td>f98c31d2f52809155aa146c443a59ae1.jpg</td>\n      <td>women</td>\n      <td>underwear</td>\n    </tr>\n    <tr>\n      <th>3905</th>\n      <td>fa4d5812b558a198a8e3192ba514c3e5.jpg</td>\n      <td>women</td>\n      <td>underwear</td>\n    </tr>\n    <tr>\n      <th>3906</th>\n      <td>fc7b3e0235b88c5a26766f2200128f65.jpg</td>\n      <td>women</td>\n      <td>underwear</td>\n    </tr>\n    <tr>\n      <th>3907</th>\n      <td>fe0965e63e3d5d1cee8f24b2134e847a.jpg</td>\n      <td>women</td>\n      <td>underwear</td>\n    </tr>\n  </tbody>\n</table>\n<p>3908 rows × 3 columns</p>\n</div>"
     },
     "execution_count": 126,
     "metadata": {},
     "output_type": "execute_result"
    }
   ],
   "source": [
    "pinterest_data=pd.DataFrame(columns=['Ads','Target audience','field'])\n",
    "source_dir = r'ads_from_pinterest\\genders'\n",
    "fields=os.listdir(source_dir)\n",
    "genders=['men','women']\n",
    "for field in fields:\n",
    "    for gender in genders:\n",
    "        for ads in os.listdir(os.path.join(source_dir,field,gender)):\n",
    "            pinterest_data.loc[len(pinterest_data)]=[ads,gender,field]\n",
    "pinterest_data"
   ],
   "metadata": {
    "collapsed": false,
    "ExecuteTime": {
     "end_time": "2024-05-15T12:51:55.159167300Z",
     "start_time": "2024-05-15T12:51:52.665205800Z"
    }
   },
   "id": "26eabc8b85a60f42",
   "execution_count": 126
  },
  {
   "cell_type": "code",
   "outputs": [],
   "source": [
    "pinterest_data.to_csv(r'ads_from_pinterest\\pinterest_data.csv')"
   ],
   "metadata": {
    "collapsed": false,
    "ExecuteTime": {
     "end_time": "2024-05-15T12:51:55.208502400Z",
     "start_time": "2024-05-15T12:51:55.152619100Z"
    }
   },
   "id": "e27a3c20de5edf3b",
   "execution_count": 127
  },
  {
   "cell_type": "code",
   "outputs": [
    {
     "name": "stdout",
     "output_type": "stream",
     "text": [
      "Download completed. Images for naturals in Baby Products field are saved in: ads_from_pinterest\\Baby Products\\naturals\n"
     ]
    }
   ],
   "source": [
    "#per gender\n",
    "neutral_categories=['Financial','Food','Healthy','Home Decor','Automobile','Baby Products']\n",
    "url = 'https://www.pinterest.com/search/pins/?q='\n",
    "source_dir='ads_from_pinterest' \n",
    "for category in neutral_categories:\n",
    "        download_ads_by_topic(source_dir,'naturals',category,url,per_gender=False)      "
   ],
   "metadata": {
    "collapsed": false,
    "ExecuteTime": {
     "end_time": "2024-05-11T16:24:16.639150900Z",
     "start_time": "2024-05-11T16:22:19.883088100Z"
    }
   },
   "id": "1ef3724f83155732",
   "execution_count": 23
  },
  {
   "cell_type": "code",
   "outputs": [
    {
     "data": {
      "text/plain": "                                      Ads Target audience       field\n0    0587b9de65bf129b34787288e595f6c2.jpg         natural  Automobile\n1    0773ca58ea4d649b5f0234b53b6a87e5.jpg         natural  Automobile\n2    0812d5afc259e1be82ab93df61ebfe0a.jpg         natural  Automobile\n3    0ba81641135411f402d3f1cf4f2a56e2.jpg         natural  Automobile\n4    0f8c9901fdb3ecff0c9bf37ee455b05a.jpg         natural  Automobile\n..                                    ...             ...         ...\n662  f47aa274685a25b9451e27d52bc20e7a.jpg         natural  Home decor\n663  f59e583d52fb2127031e3731810b692b.jpg         natural  Home decor\n664  f6dfb1ec7ba763a896b9cf0dc3f56784.jpg         natural  Home decor\n665  f73ee92d66e4f258fe2e64a0271b1265.jpg         natural  Home decor\n666  fa766680ca81694f5258a951feba675b.jpg         natural  Home decor\n\n[667 rows x 3 columns]",
      "text/html": "<div>\n<style scoped>\n    .dataframe tbody tr th:only-of-type {\n        vertical-align: middle;\n    }\n\n    .dataframe tbody tr th {\n        vertical-align: top;\n    }\n\n    .dataframe thead th {\n        text-align: right;\n    }\n</style>\n<table border=\"1\" class=\"dataframe\">\n  <thead>\n    <tr style=\"text-align: right;\">\n      <th></th>\n      <th>Ads</th>\n      <th>Target audience</th>\n      <th>field</th>\n    </tr>\n  </thead>\n  <tbody>\n    <tr>\n      <th>0</th>\n      <td>0587b9de65bf129b34787288e595f6c2.jpg</td>\n      <td>natural</td>\n      <td>Automobile</td>\n    </tr>\n    <tr>\n      <th>1</th>\n      <td>0773ca58ea4d649b5f0234b53b6a87e5.jpg</td>\n      <td>natural</td>\n      <td>Automobile</td>\n    </tr>\n    <tr>\n      <th>2</th>\n      <td>0812d5afc259e1be82ab93df61ebfe0a.jpg</td>\n      <td>natural</td>\n      <td>Automobile</td>\n    </tr>\n    <tr>\n      <th>3</th>\n      <td>0ba81641135411f402d3f1cf4f2a56e2.jpg</td>\n      <td>natural</td>\n      <td>Automobile</td>\n    </tr>\n    <tr>\n      <th>4</th>\n      <td>0f8c9901fdb3ecff0c9bf37ee455b05a.jpg</td>\n      <td>natural</td>\n      <td>Automobile</td>\n    </tr>\n    <tr>\n      <th>...</th>\n      <td>...</td>\n      <td>...</td>\n      <td>...</td>\n    </tr>\n    <tr>\n      <th>662</th>\n      <td>f47aa274685a25b9451e27d52bc20e7a.jpg</td>\n      <td>natural</td>\n      <td>Home decor</td>\n    </tr>\n    <tr>\n      <th>663</th>\n      <td>f59e583d52fb2127031e3731810b692b.jpg</td>\n      <td>natural</td>\n      <td>Home decor</td>\n    </tr>\n    <tr>\n      <th>664</th>\n      <td>f6dfb1ec7ba763a896b9cf0dc3f56784.jpg</td>\n      <td>natural</td>\n      <td>Home decor</td>\n    </tr>\n    <tr>\n      <th>665</th>\n      <td>f73ee92d66e4f258fe2e64a0271b1265.jpg</td>\n      <td>natural</td>\n      <td>Home decor</td>\n    </tr>\n    <tr>\n      <th>666</th>\n      <td>fa766680ca81694f5258a951feba675b.jpg</td>\n      <td>natural</td>\n      <td>Home decor</td>\n    </tr>\n  </tbody>\n</table>\n<p>667 rows × 3 columns</p>\n</div>"
     },
     "execution_count": 35,
     "metadata": {},
     "output_type": "execute_result"
    }
   ],
   "source": [
    "pinterest_data_ntrl=pd.DataFrame(columns=['Ads','Target audience','field'])\n",
    "source_dir = r'ads_from_pinterest\\naturals'\n",
    "fields=os.listdir(source_dir)\n",
    "for field in fields:\n",
    "    for ads in os.listdir(os.path.join(source_dir,field)):\n",
    "        pinterest_data_ntrl.loc[len(pinterest_data_ntrl)]=[ads,'natural',field]\n",
    "pinterest_data_ntrl"
   ],
   "metadata": {
    "collapsed": false,
    "ExecuteTime": {
     "end_time": "2024-05-11T16:37:17.789667800Z",
     "start_time": "2024-05-11T16:37:17.427694700Z"
    }
   },
   "id": "df9cb71ecac5fdd0",
   "execution_count": 35
  },
  {
   "cell_type": "code",
   "outputs": [],
   "source": [],
   "metadata": {
    "collapsed": false
   },
   "id": "c342645ad818f376"
  }
 ],
 "metadata": {
  "kernelspec": {
   "display_name": "Python 3",
   "language": "python",
   "name": "python3"
  },
  "language_info": {
   "codemirror_mode": {
    "name": "ipython",
    "version": 2
   },
   "file_extension": ".py",
   "mimetype": "text/x-python",
   "name": "python",
   "nbconvert_exporter": "python",
   "pygments_lexer": "ipython2",
   "version": "2.7.6"
  }
 },
 "nbformat": 4,
 "nbformat_minor": 5
}
