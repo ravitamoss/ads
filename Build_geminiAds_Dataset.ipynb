{
 "cells": [
  {
   "cell_type": "code",
   "outputs": [],
   "source": [
    "import re\n",
    "import pandas as pd\n",
    "import csv\n",
    "from io import StringIO"
   ],
   "metadata": {
    "collapsed": false,
    "ExecuteTime": {
     "end_time": "2024-05-21T19:15:04.844695Z",
     "start_time": "2024-05-21T19:15:02.624635800Z"
    }
   },
   "id": "a5dead2b1b4312f",
   "execution_count": 1
  },
  {
   "cell_type": "code",
   "outputs": [
    {
     "name": "stdout",
     "output_type": "stream",
     "text": [
      "```csv\n",
      "Target audience,General Domain,Product or Service,Aggressiveness level,Advertisement text - headline,Advertisement text - body,Visual Style and Tone,Image\n",
      "Women,Beauty,Organic Skincare,\"Discover Radiance: Unveiling Nature's Beauty Secrets\",\"Indulge in the pure essence of nature with our exquisite organic skincare line. Crafted with love and infused with botanical wonders, our products will nourish, rejuvenate, and enhance your natural glow. Experience the transformative power of nature's touch.\",Elegant,https://images.unsplash.com/photo-1512496015851-a90fb38ba79b?ixlib=rb-4.0.3&ixid=M3wxMjA3fDB8MHxwaG90by1wYWdlfHx8fGVufDB8fHx8fA%3D%3D&auto=format&fit=crop&w=1170&q=80\n",
      "Men,Technology,Noise-Cancelling Headphones,\"Escape the Noise, Elevate Your Focus\",\"Immerse yourself in a world of pure sound with our cutting-edge noise-cancelling headphones. Experience unparalleled audio clarity and eliminate distractions, allowing you to focus on what matters most. Unleash your productivity and elevate your listening experience.\",Sophisticated,https://images.unsplash.com/photo-1505740420928-5e560c06d30e?ixlib=rb-4.0.3&ixid=M3wxMjA3fDB8MHxwaG90by1wYWdlfHx8fGVufDB8fHx8fA%3D%3D&auto=format&fit=crop&w=1170&q=80\n",
      "Women,Fashion,Designer Handbags,\"Unleash Your Inner Fashionista: Exquisite Handbags for Every Occasion\",\"Elevate your style with our stunning collection of designer handbags. Crafted with meticulous attention to detail and adorned with luxurious accents, our handbags are the perfect statement pieces to complete any ensemble. From chic clutches to spacious totes, we have the perfect handbag to match your unique personality.\",Glamorous,https://images.unsplash.com/photo-1566150034471-a6c67273e308?ixlib=rb-4.0.3&ixid=M3wxMjA3fDB8MHxwaG90by1wYWdlfHx8fGVufDB8fHx8fA%3D%3D&auto=format&fit=crop&w=1171&q=80\n",
      "Men,Automotive,Sports Car,\"Experience the Thrill of the Open Road: Unleash Your Inner Speed Demon\",\"Get behind the wheel of our exhilarating sports car and experience the ultimate driving experience. With its sleek design, powerful engine, and precision handling, this car is designed to ignite your senses and leave you breathless.\",Dynamic,https://images.unsplash.com/photo-1494976388531-d1058494cdd8?ixlib=rb-4.0.3&ixid=M3wxMjA3fDB8MHxwaG90by1wYWdlfHx8fGVufDB8fHx8fA%3D%3D&auto=format&fit=crop&w=1170&q=80\n",
      "Women,Travel,Luxury Cruise,\"Escape to Paradise: Embark on an Unforgettable Journey\",\"Indulge in the ultimate escape with our luxurious cruise experience. Immerse yourself in breathtaking destinations, world-class amenities, and impeccable service. Create memories that will last a lifetime as you sail away to paradise.\",Serene,https://images.unsplash.com/photo-1524492411221-9916f8a3f8bf?ixlib=rb-4.0.3&ixid=M3wxMjA3fDB8MHxwaG90by1wYWdlfHx8fGVufDB8fHx8fA%3D%3D&auto=format&fit=crop&w=1074&q=80\n",
      "Men,Fitness,Home Gym Equipment,\"Unleash Your Fitness Potential: Build Your Dream Home Gym\",\"Transform your fitness journey with our premium home gym equipment. From state-of-the-art treadmills to versatile weightlifting sets, we have everything you need to achieve your fitness goals in the comfort of your own home. Get ready to sculpt your physique and elevate your well-being.\",Powerful,https://images.unsplash.com/photo-1517840344943-55a693a32010?ixlib=rb-4.0.3&ixid=M3wxMjA3fDB8MHxwaG90by1wYWdlfHx8fGVufDB8fHx8fA%3D%3D&auto=format&fit=crop&w=1170&q=80\n",
      "```\n",
      "```csv\n",
      "Target audience,General Domain,Product or Service,Aggressiveness level,Advertisement text - headline,Advertisement text - body,Visual Style and Tone,Image\n",
      "Men,Food,Craft Beer,\"Uncap Your Weekend: Discover Bold Flavors\",\"Step aside, ordinary.  This is beer with character. [Brand] Craft Beer: Brewed for those who want more from their brew.\",Bold,https://images.unsplash.com/photo-1515005696258-8f4ad7c11d75?ixlib=rb-4.0.3&ixid=M3wxMjA3fDB8MHxwaG90by1wYWdlfHx8fGVufDB8fHx8fA%3D%3D&auto=format&fit=crop&w=687&q=80\n",
      "Women,Fashion,Sustainable Clothing,\"Style that Feels Good: Consciously Crafted Clothing\",\"Look good, feel good, do good.  [Brand] uses organic materials and ethical practices to create fashion that's beautiful inside and out.\",Natural,https://images.unsplash.com/photo-1549468055-7d250e55b44f?ixlib=rb-4.0.3&ixid=M3wxMjA3fDB8MHxwaG90by1wYWdlfHx8fGVufDB8fHx8fA%3D%3D&auto=format&fit=crop&w=1171&q=80\n",
      "Women,Home,Smart Home Security System,\"Peace of Mind, At Your Fingertips:  Introducing the [Brand] Home Security System\",\"Feel secure, no matter where you are.  Our smart system provides 24/7 monitoring, instant alerts, and control from your phone.  Protecting your home has never been easier.\",Modern,https://images.unsplash.com/photo-1508189538973-b37c4c7c32ee?ixlib=rb-4.0.3&ixid=M3wxMjA3fDB8MHxwaG90by1wYWdlfHx8fGVufDB8fHx8fA%3D%3D&auto=format&fit=crop&w=1170&q=80\n",
      "Men,Travel,Adventure Travel Packages,\"Escape the Ordinary: Epic Adventures Await\",\"Your next adventure is calling.  Explore breathtaking landscapes, push your limits, and create memories that last a lifetime with our curated travel packages.\",Adventurous,https://images.unsplash.com/photo-1507525428034-b723cf961d3e?ixlib=rb-4.0.3&ixid=M3wxMjA3fDB8MHxwaG90by1wYWdlfHx8fGVufDB8fHx8fA%3D%3D&auto=format&fit=crop&w=1170&q=80\n",
      "Women,Beauty,Haircare,\"Shine Bright: Unleash Your Hair's Potential with [Brand]\",\"Dull, lifeless hair is a thing of the past. Our innovative formulas, infused with natural ingredients, nourish and revitalize your hair, leaving it healthy, shiny, and full of life.\",Vibrant,https://images.unsplash.com/photo-1580929333249-623a13ccb273?ixlib=rb-4.0.3&ixid=M3wxMjA3fDB8MHxwaG90by1wYWdlfHx8fGVufDB8fHx8fA%3D%3D&auto=format&fit=crop&w=1170&q=80\n",
      "Men,Finance,Investment App,\"Take Control of Your Future:  Investing Made Easy with [App Name]\",\"Grow your wealth with confidence.  Our intuitive app provides personalized investment advice, real-time market data, and tools to help you achieve your financial goals.\",Sophisticated,https://images.unsplash.com/photo-1557425314-b9258e978662?ixlib=rb-4.0.3&ixid=M3wxMjA3fDB8MHxwaG90by1wYWdlfHx8fGVufDB8fHx8fA%3D%3D&auto=format&fit=crop&w=1170&q=80\n",
      "```\n",
      "```csv\n",
      "Target audience,General Domain,Product or Service,Aggressiveness level,Advertisement text - headline,Advertisement text - body,Visual Style and Tone,Image\n",
      "Men,Technology,Wireless Bluetooth Speaker,\"Sound that Moves You: [Brand] Wireless Speaker\",\"Take your music anywhere. Powerful sound, rugged design, and long-lasting battery. Your soundtrack for adventure.\",Energetic,https://images.unsplash.com/photo-1505740420928-5e560c06d30e?ixlib=rb-4.0.3&ixid=M3wxMjA3fDB8MHxwaG90by1wYWdlfHx8fGVufDB8fHx8fA%3D%3D&auto=format&fit=crop&w=1170&q=80\n",
      "Women,Home,Luxury Bedding,\"Sleep in Softness: Indulge in the Comfort of [Brand] Bedding\",\"Experience the ultimate sleep sanctuary with our luxuriously soft bedding. Crafted from the finest materials, our sheets, blankets, and pillows will envelop you in comfort and serenity.\",Serene,https://images.unsplash.com/photo-1595853108981-ba500a82a2ff?ixlib=rb-4.0.3&ixid=M3wxMjA3fDB8MHxwaG90by1wYWdlfHx8fGVufDB8fHx8fA%3D%3D&auto=format&fit=crop&w=1170&q=80\n",
      "Men,Grooming,Beard Grooming Kit,\"The Art of the Perfect Beard: Master Your Grooming Routine\",\"Elevate your beard game with our complete grooming kit. From trimming to oiling, our tools and products will help you achieve a perfectly groomed and healthy beard.\",Sophisticated,https://images.unsplash.com/photo-1522071820081-619aa3938451?ixlib=rb-4.0.3&ixid=M3wxMjA3fDB8MHxwaG90by1wYWdlfHx8fGVufDB8fHx8fA%3D%3D&auto=format&fit=crop&w=1170&q=80\n",
      "Women,Food,Gourmet Coffee,\"Awaken Your Senses: Experience the Rich Aroma of [Brand] Coffee\",\"Indulge in the perfect cup of coffee with our expertly roasted gourmet beans. From bold and robust to smooth and subtle, our selection will tantalize your taste buds and elevate your coffee ritual.\",Warm,https://images.unsplash.com/photo-1561758033-d39a9b994e5b?ixlib=rb-4.0.3&ixid=M3wxMjA3fDB8MHxwaG90by1wYWdlfHx8fGVufDB8fHx8fA%3D%3D&auto=format&fit=crop&w=1170&q=80\n",
      "Women,Health,Yoga Studio,\"Find Your Inner Peace: Discover the Transformative Power of Yoga\",\"Join our vibrant community and embark on a journey of self-discovery through yoga. Our experienced instructors will guide you through invigorating flows and restorative practices, leaving you feeling refreshed, balanced, and empowered.\",Tranquil,https://images.unsplash.com/photo-1518609848356-72ab0c20776e?ixlib=rb-4.0.3&ixid=M3wxMjA3fDB8MHxwaG90by1wYWdlfHx8fGVufDB8fHx8fA%3D%3D&auto=format&fit=crop&w=1170&q=80\n",
      "Men,Sports,Performance Running Shoes,\"Run Like the Wind: Unleash Your Inner Athlete with [Brand] Running Shoes\",\"Experience the ultimate running experience with our high-performance running shoes. Designed with innovative technology and superior comfort, our shoes will propel you to new heights and help you achieve your running goals.\",Dynamic,https://images.unsplash.com/photo-1517649659943-788bde88414f?ixlib=rb-4.0.3&ixid=M3wxMjA3fDB8MHxwaG90by1wYWdlfHx8fGVufDB8fHx8fA%3D%3D&auto=format&fit=crop&w=1170&q=80\n",
      "```\n",
      "```csv\n",
      "Target audience,General Domain,Product or Service,Aggressiveness level,Advertisement text - headline,Advertisement text - body,Visual Style and Tone,Image\n",
      "Men,Outdoors,High-Performance Hiking Boots,\"Conquer Any Terrain: [Brand] Hiking Boots\",\"Built for durability and comfort, these boots will take you to the summit and back. Experience superior grip, waterproof protection, and all-day support for your next outdoor adventure.\",Rugged,https://images.unsplash.com/photo-1571019613454-1cb2f2592bd7?ixlib=rb-4.0.3&ixid=M3wxMjA3fDB8MHxwaG90by1wYWdlfHx8fGVufDB8fHx8fA%3D%3D&auto=format&fit=crop&w=1170&q=80\n",
      "Women,Food,Organic Tea,\"Find Your Moment of Zen: [Brand] Organic Teas\",\"Escape the everyday with a cup of pure tranquility.  Our ethically sourced, blended teas offer a delicious journey for your senses.\",Calming,https://images.unsplash.com/photo-1610878676462-6495b58c5c07?ixlib=rb-4.0.3&ixid=M3wxMjA3fDB8MHxwaG90by1wYWdlfHx8fGVufDB8fHx8fA%3D%3D&auto=format&fit=crop&w=1170&q=80\n",
      "Women,Beauty,Anti-aging Serum,\"Turn Back Time: [Brand]'s Revolutionary Anti-Aging Serum \",\"Experience visibly smoother, firmer skin with our breakthrough formula.  This potent serum reduces the appearance of wrinkles and fine lines, revealing a more youthful, radiant you.\",Elegant,https://images.unsplash.com/photo-1585739123254-92257142907b?ixlib=rb-4.0.3&ixid=M3wxMjA3fDB8MHxwaG90by1wYWdlfHx8fGVufDB8fHx8fA%3D%3D&auto=format&fit=crop&w=1170&q=80\n",
      "Men,Automotive,Electric SUV,\"The Future of Driving:  [Brand]'s All-Electric SUV\",\"Experience exhilarating performance with zero emissions. The [Brand] SUV delivers powerful acceleration, cutting-edge technology, and sleek design for a driving experience that's both thrilling and responsible.\",Modern,https://images.unsplash.com/photo-1494905998402-395d579af36f?ixlib=rb-4.0.3&ixid=M3wxMjA3fDB8MHxwaG90by1wYWdlfHx8fGVufDB8fHx8fA%3D%3D&auto=format&fit=crop&w=1170&q=80\n",
      "Men,Personal Care,Luxury Shaving Cream,\"The Perfect Shave: Elevate Your Grooming Ritual\",\"Indulge in the ultimate shaving experience with our rich, luxurious shaving cream. Formulated with natural ingredients to soothe and protect your skin, leaving you with a smooth, comfortable shave every time.\",Sophisticated,https://images.unsplash.com/photo-1618721324862-92b29914bad2?ixlib=rb-4.0.3&ixid=M3wxMjA3fDB8MHxwaG90by1wYWdlfHx8fGVufDB8fHx8fA%3D%3D&auto=format&fit=crop&w=1170&q=80\n",
      "Women,Home Decor,Handmade Candles,\"Illuminate Your Space: The Warmth of [Brand] Candles\",\"Create an ambiance of pure relaxation with our hand-poured, natural soy candles. Exquisite scents fill your home with soothing aromas, perfect for unwinding after a long day.\",Warm,https://images.unsplash.com/photo-1559617109-0b4c3a09c2df?ixlib=rb-4.0.3&ixid=M3wxMjA3fDB8MHxwaG90by1wYWdlfHx8fGVufDB8fHx8fA%3D%3D&auto=format&fit=crop&w=1170&q=80 \n",
      "```\n",
      "```csv\n",
      "Target audience,General Domain,Product or Service,Aggressiveness level,Advertisement text - headline,Advertisement text - body,Visual Style and Tone,Image\n",
      "Women,Fashion,Designer Sunglasses,\"See the World in Style: [Brand] Sunglasses\",\"Make a statement with our chic and sophisticated sunglasses. Designed with UV protection and premium materials, our sunglasses are the perfect blend of fashion and function.\",Glamorous,https://images.unsplash.com/photo-1534844978-b859e3a091b0?ixlib=rb-4.0.3&ixid=M3wxMjA3fDB8MHxwaG90by1wYWdlfHx8fGVufDB8fHx8fA%3D%3D&auto=format&fit=crop&w=1170&q=80\n",
      "Men,Technology,Gaming Laptop,\"Level Up Your Game: Unleash the Power of [Brand] Gaming Laptop\",\"Experience unparalleled gaming performance with our cutting-edge gaming laptop. Featuring a powerful processor, immersive graphics, and a responsive display, this laptop will take your gaming to new heights.\",Powerful,https://images.unsplash.com/photo-1610860960751-cbd780442a8a?ixlib=rb-4.0.3&ixid=M3wxMjA3fDB8MHxwaG90by1wYWdlfHx8fGVufDB8fHx8fA%3D%3D&auto=format&fit=crop&w=1170&q=80\n",
      "Women,Food,Healthy Snack Bars,\"Fuel Your Day the Right Way: [Brand] Snack Bars\",\"Stay energized and satisfied with our delicious and nutritious snack bars. Packed with wholesome ingredients and natural flavors, our bars are the perfect on-the-go fuel for your active lifestyle.\",Vibrant,https://images.unsplash.com/photo-1548840604-091db2a27b2b?ixlib=rb-4.0.3&ixid=M3wxMjA3fDB8MHxwaG90by1wYWdlfHx8fGVufDB8fHx8fA%3D%3D&auto=format&fit=crop&w=735&q=80\n",
      "Men,Travel,Adventure Gear,\"Gear Up for Adventure: Explore the Unknown with [Brand]\", \"Embrace the thrill of the outdoors with our premium adventure gear. From durable backpacks to high-performance tents, our equipment is built to withstand any challenge and empower your next adventure.\",Adventurous,https://images.unsplash.com/photo-1504805572947-34fb4363a717?ixlib=rb-4.0.3&ixid=M3wxMjA3fDB8MHxwaG90by1wYWdlfHx8fGVufDB8fHx8fA%3D%3D&auto=format&fit=crop&w=1171&q=80\n",
      "Women,Home,Decorative Throw Pillows,\"Add a Touch of Style: Elevate Your Home Decor with [Brand] Pillows\",\"Create a cozy and inviting atmosphere with our beautiful throw pillows. Featuring unique designs, vibrant colors, and luxurious textures, our pillows will add a touch of elegance and personality to your living spaces.\",Elegant,https://images.unsplash.com/photo-1579907220879-e1544c7da4a1?ixlib=rb-4.0.3&ixid=M3wxMjA3fDB8MHxwaG90by1wYWdlfHx8fGVufDB8fHx8fA%3D%3D&auto=format&fit=crop&w=1170&q=80\n",
      "Men,Personal Care,Men's Fragrance,\"Make a Lasting Impression: Discover the Captivating Scent of [Brand] Fragrance\",\"Embrace your individuality with our sophisticated and alluring fragrance. Crafted with a blend of rich and masculine notes, our fragrance will leave a lasting impression and enhance your personal style.\",Sophisticated,https://images.unsplash.com/photo-1559222801-e5c83879e4e7?ixlib=rb-4.0.3&ixid=M3wxMjA3fDB8MHxwaG90by1wYWdlfHx8fGVufDB8fHx8fA%3D%3D&auto=format&fit=crop&w=1170&q=80\n",
      "```\n",
      "```csv\n",
      "Target audience,General Domain,Product or Service,Aggressiveness level,Advertisement text - headline,Advertisement text - body,Visual Style and Tone,Image\n",
      "Men,Sports,Performance Athletic Wear,\"Push Your Limits: [Brand] Performance Apparel\",\"Elevate your workouts with our high-performance athletic wear.  Designed for optimal comfort, flexibility, and breathability, our apparel will help you achieve peak performance.\",Dynamic,https://images.unsplash.com/photo-1554244909-d4481f6e3774?ixlib=rb-4.0.3&ixid=M3wxMjA3fDB8MHxwaG90by1wYWdlfHx8fGVufDB8fHx8fA%3D%3D&auto=format&fit=crop&w=1171&q=80\n",
      "Women,Home,Luxury Candles,\"Create Your Sanctuary: [Brand] Scented Candles\",\"Fill your home with captivating fragrances. Our luxury candles are hand-poured with natural soy wax and essential oils, creating an ambiance of pure relaxation and indulgence.\",Serene,https://images.unsplash.com/photo-1583841776758-a07a14b9e672?ixlib=rb-4.0.3&ixid=M3wxMjA3fDB8MHxwaG90by1wYWdlfHx8fGVufDB8fHx8fA%3D%3D&auto=format&fit=crop&w=1169&q=80\n",
      "Men,Food & Drink,Craft Whiskey,\"Taste the Legacy: [Brand] Small Batch Whiskey\",\"Handcrafted with passion and precision, our whiskey delivers a symphony of flavors.  Enjoy notes of oak, caramel, and spice in every sip.\",Bold,https://images.unsplash.com/photo-1606757355210-e7021c899753?ixlib=rb-4.0.3&ixid=M3wxMjA3fDB8MHxwaG90by1wYWdlfHx8fGVufDB8fHx8fA%3D%3D&auto=format&fit=crop&w=687&q=80\n",
      "Women,Travel,Boutique Hotel,\"Escape the Ordinary: Discover [Hotel Name]\",\"Experience a world of personalized luxury and unforgettable moments. Our boutique hotel offers stunning design, exceptional service, and curated experiences for a truly unique getaway.\",Luxurious,https://images.unsplash.com/photo-1571896349842-33c89424de2d?ixlib=rb-4.0.3&ixid=M3wxMjA3fDB8MHxwaG90by1wYWdlfHx8fGVufDB8fHx8fA%3D%3D&auto=format&fit=crop&w=1170&q=80\n",
      "Men,Finance,Investment Management,\"Secure Your Future: [Brand] Investment Management\",\"Grow your wealth with confidence.  Our experienced team provides tailored investment strategies and personalized guidance to help you achieve your financial goals.\",Sophisticated,https://images.unsplash.com/photo-1557425314-b9258e978662?ixlib=rb-4.0.3&ixid=M3wxMjA3fDB8MHxwaG90by1wYWdlfHx8fGVufDB8fHx8fA%3D%3D&auto=format&fit=crop&w=1170&q=80\n",
      "Women,Beauty,Organic Skincare,\"Reveal Your Natural Radiance: [Brand] Organic Skincare\",\"Nourish your skin with the goodness of nature. Our organic skincare products are crafted with potent botanicals and pure ingredients, delivering visible results for a healthy, radiant complexion.\",Natural,https://images.unsplash.com/photo-1509967419530-da38b4704bc6?ixlib=rb-4.0.3&ixid=M3wxMjA3fDB8MHxwaG90by1wYWdlfHx8fGVufDB8fHx8fA%3D%3D&auto=format&fit=crop&w=1170&q=80\n",
      "``` \n",
      "```csv\n",
      "Target audience,General Domain,Product or Service,Aggressiveness level,Advertisement text - headline,Advertisement text - body,Visual Style and Tone,Image\n",
      "Women,Jewelry,Diamond Necklace,\"Sparkle with Elegance: [Brand] Diamond Necklaces\",\"Illuminate your style with the brilliance of our exquisite diamond necklaces.  Each piece is crafted with meticulous artistry and ethically sourced diamonds, reflecting timeless beauty and sophistication.\",Sophisticated,https://images.unsplash.com/photo-1568015634758-6303055d4695?ixlib=rb-4.0.3&ixid=M3wxMjA3fDB8MHxwaG90by1wYWdlfHx8fGVufDB8fHx8fA%3D%3D&auto=format&fit=crop&w=1170&q=80\n",
      "Men,Technology,Noise-Cancelling Headphones,\"Find Your Focus: [Brand] Noise-Cancelling Headphones\",\"Escape distractions and immerse yourself in pure audio clarity.  Our headphones combine advanced noise-cancellation technology with superior comfort, creating a sanctuary for your listening experience.\",Minimalist,https://images.unsplash.com/photo-1505740420928-5e560c06d30e?ixlib=rb-4.0.3&ixid=M3wxMjA3fDB8MHxwaG90by1wYWdlfHx8fGVufDB8fHx8fA%3D%3D&auto=format&fit=crop&w=1170&q=80\n",
      "Women,Home,Artisan-Made Ceramics,\"Elevate Your Everyday:  [Brand] Ceramics\",\"Experience the beauty of handcrafted ceramics.  Our unique pieces add a touch of artistry and warmth to your home, making every meal and moment feel special.\",Rustic,https://images.unsplash.com/photo-1548050894-9904c1c10c16?ixlib=rb-4.0.3&ixid=M3wxMjA3fDB8MHxwaG90by1wYWdlfHx8fGVufDB8fHx8fA%3D%3D&auto=format&fit=crop&w=1170&q=80\n",
      "Men,Automotive,Classic Sports Car,\"Unleash Your Inner Racer: [Brand] Classic Sports Car\",\"Feel the power and legacy of a true driving icon. The [Brand] delivers timeless design, exhilarating performance, and the thrill of open roads.\",Vintage,https://images.unsplash.com/photo-1533779431941-0e0975a01251?ixlib=rb-4.0.3&ixid=M3wxMjA3fDB8MHxwaG90by1wYWdlfHx8fGVufDB8fHx8fA%3D%3D&auto=format&fit=crop&w=1170&q=80\n",
      "Women,Travel,Luxury Luggage,\"Travel in Style: [Brand] Luggage\",\"Experience effortless journeys with our premium luggage collection. Designed for durability, functionality, and elegant style, our luggage ensures a seamless travel experience from departure to arrival.\",Elegant,https://images.unsplash.com/photo-1592526721282-0a457c2773ad?ixlib=rb-4.0.3&ixid=M3wxMjA3fDB8MHxwaG90by1wYWdlfHx8fGVufDB8fHx8fA%3D%3D&auto=format&fit=crop&w=1170&q=80 \n",
      "Men,Personal Care,High-End Shaving Set,\"The Art of the Perfect Shave: [Brand] Shaving Essentials\",\"Elevate your grooming ritual with our precision-crafted shaving set. From badger-hair brushes to luxurious creams, our products deliver an impeccably smooth and enjoyable shaving experience.\",Classic,https://images.unsplash.com/photo-1522071820081-619aa3938451?ixlib=rb-4.0.3&ixid=M3wxMjA3fDB8MHxwaG90by1wYWdlfHx8fGVufDB8fHx8fA%3D%3D&auto=format&fit=crop&w=1170&q=80 \n",
      "```\n",
      "```csv\n",
      "Target audience,General Domain,Product or Service,Aggressiveness level,Advertisement text - headline,Advertisement text - body,Visual Style and Tone,Image\n",
      "Women,Fashion,Silk Scarf,\"The Art of Effortless Style: [Brand] Silk Scarves\",\"Elevate your look with the timeless elegance of our silk scarves. Exquisite prints and vibrant colors create a statement piece that complements any outfit.\",Elegant,https://images.unsplash.com/photo-1588701719059-86387976601c?ixlib=rb-4.0.3&ixid=M3wxMjA3fDB8MHxwaG90by1wYWdlfHx8fGVufDB8fHx8fA%3D%3D&auto=format&fit=crop&w=1170&q=80 \n",
      "Men,Food & Drink,Single Malt Scotch,\"Discover the Essence of Time: [Brand] Single Malt Scotch\",\"Indulge in the rich complexity and smoky depth of our single malt scotch. Handcrafted with tradition and passion, each sip reveals a legacy of excellence.\",Sophisticated,https://images.unsplash.com/photo-1624997074042-9c133104f21c?ixlib=rb-4.0.3&ixid=M3wxMjA3fDB8MHxwaG90by1wYWdlfHx8fGVufDB8fHx8fA%3D%3D&auto=format&fit=crop&w=1170&q=80\n",
      "Women,Health & Wellness,Yoga Retreat,\"Find Your Inner Harmony: [Retreat Name] Yoga Retreat\",\"Escape to paradise and embark on a transformative journey of self-discovery. Our yoga retreat offers daily practice, meditation, and wellness workshops in a serene and rejuvenating setting.\",Tranquil,https://images.unsplash.com/photo-1586769851638-6a36a7890b6a?ixlib=rb-4.0.3&ixid=M3wxMjA3fDB8MHxwaG90by1wYWdlfHx8fGVufDB8fHx8fA%3D%3D&auto=format&fit=crop&w=1170&q=80\n",
      "Men,Technology,Smartwatch,\"Stay Connected, Stay Ahead: [Brand] Smartwatch\", \"Experience the perfect blend of style and functionality with our advanced smartwatch. Stay connected, track your fitness, and manage your day with effortless ease.\",Modern,https://images.unsplash.com/photo-1579586337278-3bebacd6b1ad?ixlib=rb-4.0.3&ixid=M3wxMjA3fDB8MHxwaG90by1wYWdlfHx8fGVufDB8fHx8fA%3D%3D&auto=format&fit=crop&w=1170&q=80\n",
      "Women,Home Decor,Handmade Rugs,\"Transform Your Space: [Brand] Handwoven Rugs\", \"Add a touch of artistry and warmth to your home with our exquisite handmade rugs. Each piece is crafted with intricate designs and vibrant colors, creating a focal point that elevates your decor.\",Bohemian,https://images.unsplash.com/photo-1581029640908-e2b44f54b220?ixlib=rb-4.0.3&ixid=M3wxMjA3fDB8MHxwaG90by1wYWdlfHx8fGVufDB8fHx8fA%3D%3D&auto=format&fit=crop&w=1170&q=80\n",
      "Men,Outdoors,Camping Gear,\"Embrace the Wild: [Brand] Camping Essentials\", \"Adventure awaits with our premium camping gear. From high-performance tents to durable sleeping bags, our equipment is built for comfort and reliability in the great outdoors.\",Adventurous,https://images.unsplash.com/photo-1470246971239-74d7c4ab2f7b?ixlib=rb-4.0.3&ixid=M3wxMjA3fDB8MHxwaG90by1wYWdlfHx8fGVufDB8fHx8fA%3D%3D&auto=format&fit=crop&w=1170&q=80\n",
      "```\n",
      "```csv\n",
      "Target audience,General Domain,Product or Service,Aggressiveness level,Advertisement text - headline,Advertisement text - body,Visual Style and Tone,Image\n",
      "Men,Automotive,Luxury Sedan,\"Experience the Pinnacle of Automotive Excellence: [Brand] Luxury Sedan\",\"Indulge in a world of refined craftsmanship, cutting-edge technology, and exhilarating performance. The [Brand] Sedan redefines luxury and sets a new standard for automotive excellence.\",Sophisticated,https://images.unsplash.com/photo-1583121274602-3e2820a8992d?ixlib=rb-4.0.3&ixid=M3wxMjA3fDB8MHxwaG90by1wYWdlfHx8fGVufDB8fHx8fA%3D%3D&auto=format&fit=crop&w=1170&q=80\n",
      "Women,Fashion,Designer Handbag,\"Elevate Your Style: [Brand] Designer Handbags\",\"Make a statement with our exquisite handbag collection. Crafted from premium materials and adorned with intricate details, our handbags are the perfect blend of sophistication and style.\",Glamorous,https://images.unsplash.com/photo-1594812711689-f7b07c87a71d?ixlib=rb-4.0.3&ixid=M3wxMjA3fDB8MHxwaG90by1wYWdlfHx8fGVufDB8fHx8fA%3D%3D&auto=format&fit=crop&w=1170&q=80\n",
      "Men,Food & Drink,Craft Beer,\"Uncap Your Weekend: [Brand] Craft Beer\",\"Discover a world of bold flavors and handcrafted brews. Our craft beer is brewed with passion and precision, delivering a refreshing and satisfying experience.\",Bold,https://images.unsplash.com/photo-1573473956546-e8d7855b7c9e?ixlib=rb-4.0.3&ixid=M3wxMjA3fDB8MHxwaG90by1wYWdlfHx8fGVufDB8fHx8fA%3D%3D&auto=format&fit=crop&w=687&q=80\n",
      "Women,Travel,Boutique Hotel,\"Escape to Paradise: [Hotel Name] Boutique Hotel\",\"Indulge in a world of personalized luxury and breathtaking beauty. Our boutique hotel offers an oasis of tranquility and curated experiences for an unforgettable getaway.\",Serene,https://images.unsplash.com/photo-1571003123893-133d85739fae?ixlib=rb-4.0.3&ixid=M3wxMjA3fDB8MHxwaG90by1wYWdlfHx8fGVufDB8fHx8fA%3D%3D&auto=format&fit=crop&w=1170&q=80\n",
      "Men,Technology,Wireless Earbuds,\"Experience Unrivaled Audio Freedom: [Brand] Wireless Earbuds\",\"Immerse yourself in a world of pure sound with our cutting-edge wireless earbuds. Featuring crystal-clear audio, comfortable fit, and seamless connectivity, our earbuds elevate your listening experience.\",Modern,https://images.unsplash.com/photo-1583394838336-36c321792dcc?ixlib=rb-4.0.3&ixid=M3wxMjA3fDB8MHxwaG90by1wYWdlfHx8fGVufDB8fHx8fA%3D%3D&auto=format&fit=crop&w=1170&q=80\n",
      "Women,Home,Luxury Bedding,\"Indulge in the Ultimate Sleep Sanctuary: [Brand] Luxury Bedding\",\"Experience a world of unparalleled comfort and serenity with our exquisite bedding collection. Crafted from the finest materials, our sheets, blankets, and pillows envelop you in luxury and ensure a restful night's sleep.\",Elegant,https://images.unsplash.com/photo-1517323457755-z0dc8f1213bf?ixlib=rb-4.0.3&ixid=M3wxMjA3fDB8MHxwaG90by1wYWdlfHx8fGVufDB8fHx8fA%3D%3D&auto=format&fit=crop&w=1170&q=80\n",
      "```\n",
      "```csv\n",
      "Target audience,General Domain,Product or Service,Aggressiveness level,Advertisement text - headline,Advertisement text - body,Visual Style and Tone,Image\n",
      "Women,Beauty,Perfume,\"Unleash Your Inner Radiance: [Brand] Perfume\",\"Embrace the allure of our captivating fragrance. Delicate floral notes blend seamlessly with warm musk and sensual vanilla, creating an unforgettable scent that embodies femininity and grace.\",Romantic,https://images.unsplash.com/photo-1561203568-fa2e0e50a7d2?ixlib=rb-4.0.3&ixid=M3wxMjA3fDB8MHxwaG90by1wYWdlfHx8fGVufDB8fHx8fA%3D%3D&auto=format&fit=crop&w=1170&q=80\n",
      "Men,Technology,Smart Home System,\"Experience the Future of Home: [Brand] Smart Home System\",\"Transform your house into a smart haven with our intuitive home automation system. Control lighting, temperature, security, and more with a simple touch, making life easier and more efficient.\",Modern,https://images.unsplash.com/photo-1518495912691-3cbe356c4afa?ixlib=rb-4.0.3&ixid=M3wxMjA3fDB8MHxwaG90by1wYWdlfHx8fGVufDB8fHx8fA%3D%3D&auto=format&fit=crop&w=1170&q=80\n",
      "Women,Fashion,Leather Boots,\"Step Out in Style: [Brand] Leather Boots\", \"Conquer any terrain with confidence and flair in our premium leather boots. Crafted with quality and designed for both durability and style, our boots are the perfect companion for your adventures.\",Edgy,https://unsplash.com/photos/G4HUA-EUwjM\n",
      "Men,Food & Drink,Coffee,\"Awaken Your Senses: [Brand] Coffee\",\"Start your day with the rich aroma and bold flavor of our expertly roasted coffee. Ethically sourced and meticulously brewed, our coffee beans deliver an unparalleled coffee experience.\",Warm,https://images.unsplash.com/photo-1514907282768-22f195798fa3?ixlib=rb-4.0.3&ixid=M3wxMjA3fDB8MHxwaG90by1wYWdlfHx8fGVufDB8fHx8fA%3D%3D&auto=format&fit=crop&w=1170&q=80\n",
      "Women,Travel,Adventure Travel Package,\"Embrace the Thrill of Discovery: [Company] Adventure Travel\",\"Explore the world's hidden gems with our curated adventure travel packages. From breathtaking landscapes to exhilarating activities, we create unforgettable experiences that push your boundaries.\",Adventurous,https://images.unsplash.com/photo-1507525428034-b723cf961d3e?ixlib=rb-4.0.3&ixid=M3wxMjA3fDB8MHxwaG90by1wYWdlfHx8fGVufDB8fHx8fA%3D%3D&auto=format&fit=crop&w=1170&q=80\n",
      "Men,Fitness,Home Gym Equipment,\"Sculpt Your Physique: [Brand] Home Gym Equipment\",\"Achieve your fitness goals from the comfort of your home with our premium gym equipment. Designed for performance and durability, our equipment empowers you to build strength, enhance endurance, and transform your body.\",Powerful,https://images.unsplash.com/photo-1580086318451-c82b8870569a?ixlib=rb-4.0.3&ixid=M3wxMjA3fDB8MHxwaG90by1wYWdlfHx8fGVufDB8fHx8fA%3D%3D&auto=format&fit=crop&w=1170&q=80\n",
      "```\n",
      "```csv\n",
      "Target audience,General Domain,Product or Service,Aggressiveness level,Advertisement text - headline,Advertisement text - body,Visual Style and Tone,Image\n",
      "Men,Outdoors,Mountain Bike,\"Conquer Any Trail: [Brand] Mountain Bikes\",\"Experience the thrill of off-road adventures with our high-performance mountain bikes. Built for durability, speed, and agility, our bikes will take you to new heights.\",Adventurous,https://images.unsplash.com/photo-1557798843-42c20525a36c?ixlib=rb-4.0.3&ixid=M3wxMjA3fDB8MHxwaG90by1wYWdlfHx8fGVufDB8fHx8fA%3D%3D&auto=format&fit=crop&w=1170&q=80\n",
      "Women,Fashion,Cocktail Dress,\"Sparkle at Every Occasion: [Brand] Cocktail Dresses\",\"Embrace the allure of elegance with our stunning cocktail dresses. Crafted with exquisite fabrics and flattering silhouettes, our dresses will make you shine at any event.\",Glamorous,https://images.unsplash.com/photo-1596462777015-ab6a6985dfc0?ixlib=rb-4.0.3&ixid=M3wxMjA3fDB8MHxwaG90by1wYWdlfHx8fGVufDB8fHx8fA%3D%3D&auto=format&fit=crop&w=687&q=80\n",
      "Men,Technology,Virtual Reality Headset,\"Experience the Future of Gaming: [Brand] VR Headset\",\"Step into a world of immersive virtual reality with our state-of-the-art VR headset. Explore stunning virtual landscapes, engage in thrilling gameplay, and redefine your entertainment experience.\",Futuristic,https://images.unsplash.com/photo-1621805982058-0243f36b9b67?ixlib=rb-4.0.3&ixid=M3wxMjA3fDB8MHxwaG90by1wYWdlfHx8fGVufDB8fHx8fA%3D%3D&auto=format&fit=crop&w=1170&q=80\n",
      "Women,Home,Scented Candles,\"Create an Oasis of Tranquility: [Brand] Scented Candles\",\"Transform your home into a sanctuary of peace and relaxation with our exquisite scented candles. Infused with calming essential oils and crafted with natural soy wax, our candles create a soothing and inviting ambiance.\",Serene,https://images.unsplash.com/photo-1572179258435-70e7c38dbb36?ixlib=rb-4.0.3&ixid=M3wxMjA3fDB8MHxwaG90by1wYWdlfHx8fGVufDB8fHx8fA%3D%3D&auto=format&fit=crop&w=1169&q=80\n",
      "Men,Food & Drink,Whiskey,\"Indulge in the Art of Distillation: [Brand] Whiskey\",\"Experience the rich history and exceptional craftsmanship of our premium whiskey. Aged to perfection and bursting with complex flavors, our whiskey is a testament to tradition and excellence.\",Sophisticated,https://images.unsplash.com/photo-1589650728815-4d3887640f5b?ixlib=rb-4.0.3&ixid=M3wxMjA3fDB8MHxwaG90by1wYWdlfHx8fGVufDB8fHx8fA%3D%3D&auto=format&fit=crop&w=1170&q=80\n",
      "Women,Travel,Luxury Cruise,\"Embark on an Unforgettable Journey: [Company] Luxury Cruises\",\"Discover a world of unparalleled luxury and breathtaking destinations with our premium cruise line. Experience impeccable service, exquisite cuisine, and unforgettable moments on the high seas.\",Elegant,https://images.unsplash.com/photo-1524492411221-9916f8a3f8bf?ixlib=rb-4.0.3&ixid=M3wxMjA3fDB8MHxwaG90by1wYWdlfHx8fGVufDB8fHx8fA%3D%3D&auto=format&fit=crop&w=1074&q=80\n",
      "```\n",
      "\n",
      "```csv\n",
      "Target audience,General Domain,Product or Service,Aggressiveness level,Advertisement text - headline,Advertisement text - body,Visual Style and Tone,Image\n",
      "Men,Personal Care,Beard Oil,\"Tame Your Mane: [Brand] Beard Oil\",\"Cultivate the perfect beard with our premium beard oil.  Formulated with natural oils to nourish, condition, and soften your beard, leaving it healthy, manageable, and irresistibly soft.\",Rustic,https://images.unsplash.com/photo-1522071820081-619aa3938451?ixlib=rb-4.0.3&ixid=M3wxMjA3fDB8MHxwaG90by1wYWdlfHx8fGVufDB8fHx8fA%3D%3D&auto=format&fit=crop&w=1170&q=80 \n",
      "Women,Fashion,Summer Dress,\"Embrace the Season: [Brand] Summer Dresses\",\"Step into summer with our vibrant collection of dresses.  Flowy fabrics, playful prints, and flattering silhouettes create the perfect look for sunny days and warm nights.\",Cheerful,https://images.unsplash.com/photo-1564472440584-b4e43a25b56f?ixlib=rb-4.0.3&ixid=M3wxMjA3fDB8MHxwaG90by1wYWdlfHx8fGVufDB8fHx8fA%3D%3D&auto=format&fit=crop&w=1170&q=80\n",
      "Men,Food & Drink,Gourmet Coffee Beans,\"Awaken Your Inner Barista: [Brand] Coffee Beans\",\"Experience coffee perfection with our meticulously sourced and roasted beans.  From rich, dark roasts to bright, fruity blends, our coffee will elevate your mornings and inspire your senses.\",Sophisticated,https://images.unsplash.com/photo-1495150111642-04616a33d46b?ixlib=rb-4.0.3&ixid=M3wxMjA3fDB8MHxwaG90by1wYWdlfHx8fGVufDB8fHx8fA%3D%3D&auto=format&fit=crop&w=1170&q=80\n",
      "Women,Home,Handwoven Throw Blanket,\"Cozy Comfort: [Brand] Throw Blankets\",\"Wrap yourself in warmth and comfort with our beautiful throw blankets.   Handwoven with natural fibers and featuring unique designs, our blankets add a touch of elegance and texture to your living spaces.\",Warm,https://images.unsplash.com/photo-1571574797691-7dad90b1458e?ixlib=rb-4.0.3&ixid=M3wxMjA3fDB8MHxwaG90by1wYWdlfHx8fGVufDB8fHx8fA%3D%3D&auto=format&fit=crop&w=1170&q=80\n",
      "Men,Technology,Wireless Headphones,\"Unleash Your Soundtrack: [Brand] Wireless Headphones\",\"Experience audio freedom with our premium wireless headphones.  Exceptional sound quality, comfortable fit, and long-lasting battery life make these the perfect companion for your everyday adventures.\",Modern,https://images.unsplash.com/photo-1505740420928-5e560c06d30e?ixlib=rb-4.0.3&ixid=M3wxMjA3fDB8MHxwaG90by1wYWdlfHx8fGVufDB8fHx8fA%3D%3D&auto=format&fit=crop&w=1170&q=80\n",
      "Women,Health & Wellness,Organic Tea,\"Find Your Moment of Zen: [Brand] Organic Teas\",\"Escape the everyday with a cup of tranquility. Our ethically-sourced, organic teas offer a delicious journey for your senses.  Soothing aromas and natural flavors create the perfect moment to unwind and recharge.\",Peaceful,https://images.unsplash.com/photo-1579926637291-c159276370c1?ixlib=rb-4.0.3&ixid=M3wxMjA3fDB8MHxwaG90by1wYWdlfHx8fGVufDB8fHx8fA%3D%3D&auto=format&fit=crop&w=1170&q=80\n",
      "```\n",
      "```csv\n",
      "Target audience,General Domain,Product or Service,Aggressiveness level,Advertisement text - headline,Advertisement text - body,Visual Style and Tone,Image\n",
      "Women,Fashion,Statement Earrings,\"Elevate Your Look: [Brand] Statement Earrings\",\"Express your unique style with our bold and beautiful statement earrings. Crafted with intricate designs and sparkling stones, our earrings will turn heads and complete your outfit.\",Glamorous,https://images.unsplash.com/photo-1595766783162-c29b0a05b356?ixlib=rb-4.0.3&ixid=M3wxMjA3fDB8MHxwaG90by1wYWdlfHx8fGVufDB8fHx8fA%3D%3D&auto=format&fit=crop&w=1170&q=80\n",
      "Men,Technology,Gaming Console,\"Enter a World Without Limits: [Brand] Gaming Console\",\"Experience the future of gaming with our cutting-edge console. Immersive graphics, lightning-fast processing, and an expansive game library will redefine your entertainment experience.\",Futuristic,https://images.unsplash.com/photo-1612487582315-5b29c707454d?ixlib=rb-4.0.3&ixid=M3wxMjA3fDB8MHxwaG90by1wYWdlfHx8fGVufDB8fHx8fA%3D%3D&auto=format&fit=crop&w=1170&q=80\n",
      "Women,Home,Decorative Throw Pillows,\"Add a Touch of Personality: [Brand] Throw Pillows\",\"Create a cozy and stylish atmosphere with our curated collection of throw pillows. Featuring unique patterns, textures, and colors, our pillows will add a touch of warmth and personality to your living spaces.\",Vibrant,https://images.unsplash.com/photo-1579907220879-e1544c7da4a1?ixlib=rb-4.0.3&ixid=M3wxMjA3fDB8MHxwaG90by1wYWdlfHx8fGVufDB8fHx8fA%3D%3D&auto=format&fit=crop&w=1170&q=80\n",
      "Men,Food & Drink,Craft Beer,\"Taste the Difference: [Brand] Craft Beer\",\"Discover a world of bold flavors and handcrafted brews. Our craft beer is brewed with passion and precision, using only the finest ingredients to deliver a refreshing and satisfying experience.\",Bold,https://images.unsplash.com/photo-1586977094820-615469e02a9b?ixlib=rb-4.0.3&ixid=M3wxMjA3fDB8MHxwaG90by1wYWdlfHx8fGVufDB8fHx8fA%3D%3D&auto=format&fit=crop&w=1170&q=80\n",
      "Women,Travel,Weekend Getaway Package,\"Escape the Everyday: [Company] Weekend Getaways\",\"Unwind and recharge with our curated weekend getaway packages. Explore charming destinations, indulge in luxurious accommodations, and create unforgettable memories.\",Relaxing,https://images.unsplash.com/photo-1527092058753-9c4ea2b936aa?ixlib=rb-4.0.3&ixid=M3wxMjA3fDB8MHxwaG90by1wYWdlfHx8fGVufDB8fHx8fA%3D%3D&auto=format&fit=crop&w=1170&q=80\n",
      "Men,Fitness,Protein Powder,\"Fuel Your Fitness Journey: [Brand] Protein Powder\",\"Maximize your workouts and accelerate your recovery with our premium protein powder. Packed with essential amino acids and formulated for optimal absorption, our protein powder will help you achieve your fitness goals.\",Powerful,https://images.unsplash.com/photo-1603829474911-6f8b9e391022?ixlib=rb-4.0.3&ixid=M3wxMjA3fDB8MHxwaG90by1wYWdlfHx8fGVufDB8fHx8fA%3D%3D&auto=format&fit=crop&w=1170&q=80\n",
      "```\n",
      "\n",
      "```csv\n",
      "Target audience,General Domain,Product or Service,Aggressiveness level,Advertisement text - headline,Advertisement text - body,Visual Style and Tone,Image\n",
      "Men,Fashion,Watches,\"Timeless Style: [Brand] Watches\",\"Make a statement with our sophisticated collection of watches.  Precision craftsmanship, elegant designs, and superior functionality elevate your style for every occasion.\",Classic,https://images.unsplash.com/photo-1548050894-9904c1c10c16?ixlib=rb-4.0.3&ixid=M3wxMjA3fDB8MHxwaG90by1wYWdlfHx8fGVufDB8fHx8fA%3D%3D&auto=format&fit=crop&w=1170&q=80\n",
      "Women,Home,Decorative Candles,\"Illuminate Your Space: [Brand] Candles\",\"Create an ambiance of warmth and tranquility with our beautifully crafted candles. Delicate scents, elegant designs, and long-lasting burn time elevate your home decor.\",Serene,https://images.unsplash.com/photo-1583841776758-a07a14b9e672?ixlib=rb-4.0.3&ixid=M3wxMjA3fDB8MHxwaG90by1wYWdlfHx8fGVufDB8fHx8fA%3D%3D&auto=format&fit=crop&w=1169&q=80\n",
      "Men,Technology,Smartphone,\"Experience Innovation: [Brand] Smartphone\",\"Unleash the power of technology with our cutting-edge smartphone. Exceptional camera, lightning-fast processor, and immersive display redefine your mobile experience.\",Modern,https://images.unsplash.com/photo-1511707171634-5f897ff02aa9?ixlib=rb-4.0.3&ixid=M3wxMjA3fDB8MHxwaG90by1wYWdlfHx8fGVufDB8fHx8fA%3D%3D&auto=format&fit=crop&w=1170&q=80\n",
      "Women,Beauty,Skincare,\"Reveal Your Natural Radiance: [Brand] Skincare\",\"Embrace the beauty of healthy skin with our scientifically advanced skincare line.  Harnessing the power of nature and innovation, we deliver visible results for a youthful, radiant complexion.\",Elegant,https://images.unsplash.com/photo-1585739123254-92257142907b?ixlib=rb-4.0.3&ixid=M3wxMjA3fDB8MHxwaG90by1wYWdlfHx8fGVufDB8fHx8fA%3D%3D&auto=format&fit=crop&w=1170&q=80\n",
      "Men,Food & Drink,Coffee,\"Awaken Your Senses: [Brand] Coffee\",\"Start your day with the rich aroma and bold flavor of our expertly roasted coffee. Ethically sourced and meticulously brewed, our coffee beans deliver an unparalleled coffee experience.\",Invigorating,https://images.unsplash.com/photo-1514907282768-22f195798fa3?ixlib=rb-4.0.3&ixid=M3wxMjA3fDB8MHxwaG90by1wYWdlfHx8fGVufDB8fHx8fA%3D%3D&auto=format&fit=crop&w=1170&q=80\n",
      "Women,Travel,Adventure Tours,\"Explore the World: [Company] Adventure Tours\",\"Embark on unforgettable adventures with our expertly curated tours.  Discover breathtaking landscapes, immerse yourself in vibrant cultures, and create memories that will last a lifetime.\",Adventurous,https://images.unsplash.com/photo-1507525428034-b723cf961d3e?ixlib=rb-4.0.3&ixid=M3wxMjA3fDB8MHxwaG90by1wYWdlfHx8fGVufDB8fHx8fA%3D%3D&auto=format&fit=crop&w=1170&q=80 \n",
      "```\n",
      "\n",
      "```csv\n",
      "Target audience,General Domain,Product or Service,Aggressiveness level,Advertisement text - headline,Advertisement text - body,Visual Style and Tone,Image\n",
      "Men,Food & Drink,Craft Beer,\"Taste the Adventure: [Brand] Craft Beer\",\"Escape the ordinary with our bold and flavorful craft beers.  Handcrafted with passion and precision, our beers offer a unique taste experience for those who seek adventure in every sip.\",Bold,https://images.unsplash.com/photo-1560084463-56003d172396?ixlib=rb-4.0.3&ixid=M3wxMjA3fDB8MHxwaG90by1wYWdlfHx8fGVufDB8fHx8fA%3D%3D&auto=format&fit=crop&w=1170&q=80\n",
      "Women,Fashion,Sunglasses,\"See the World in Style: [Brand] Sunglasses\",\"Elevate your look with our chic and sophisticated sunglasses. Designed to protect your eyes while enhancing your style, our sunglasses offer the perfect blend of fashion and function.\",Glamorous,https://images.unsplash.com/photo-1509967419530-da38b4704bc6?ixlib=rb-4.0.3&ixid=M3wxMjA3fDB8MHxwaG90by1wYWdlfHx8fGVufDB8fHx8fA%3D%3D&auto=format&fit=crop&w=1170&q=80\n",
      "Men,Technology,Noise-Canceling Headphones,\"Escape the Noise, Elevate Your Focus: [Brand] Headphones\",\"Immerse yourself in a world of pure audio with our advanced noise-canceling headphones.  Experience unparalleled sound quality and eliminate distractions, creating a sanctuary for your listening pleasure.\",Sophisticated,https://images.unsplash.com/photo-1505740420928-5e560c06d30e?ixlib=rb-4.0.3&ixid=M3wxMjA3fDB8MHxwaG90by1wYWdlfHx8fGVufDB8fHx8fA%3D%3D&auto=format&fit=crop&w=1170&q=80\n",
      "Women,Home,Decorative Vases,\"Add a Touch of Elegance: [Brand] Vases\",\"Elevate your home décor with our exquisite collection of vases.  Crafted with artistic flair and available in a variety of styles, our vases add a touch of sophistication and beauty to any space.\",Elegant,https://images.unsplash.com/photo-1560802401-899dd0a4a98e?ixlib=rb-4.0.3&ixid=M3wxMjA3fDB8MHxwaG90by1wYWdlfHx8fGVufDB8fHx8fA%3D%3D&auto=format&fit=crop&w=1170&q=80\n",
      "Men,Outdoors,Hiking Boots,\"Conquer Any Terrain: [Brand] Hiking Boots\",\"Embark on your next outdoor adventure with confidence in our durable and comfortable hiking boots.  Designed for performance and built to withstand the elements, our boots will support you every step of the way.\",Rugged,https://images.unsplash.com/photo-1488190211105-8b0e65b80b4e?ixlib=rb-4.0.3&ixid=M3wxMjA3fDB8MHxwaG90by1wYWdlfHx8fGVufDB8fHx8fA%3D%3D&auto=format&fit=crop&w=1170&q=80\n",
      "Women,Beauty,Luxury Skincare,\"Experience the Art of Skincare: [Brand] Luxury Skincare\",\"Indulge in a world of exquisite skincare with our scientifically advanced line.  Infused with potent ingredients and crafted with meticulous care, our products deliver visible results for a radiant and youthful complexion.\",Luxurious,https://images.unsplash.com/photo-1509967419530-da38b4704bc6?ixlib=rb-4.0.3&ixid=M3wxMjA3fDB8MHxwaG90by1wYWdlfHx8fGVufDB8fHx8fA%3D%3D&auto=format&fit=crop&w=1170&q=80\n",
      "```\n",
      "\n",
      "\n",
      "An error occurred: 'charmap' codec can't encode character '\\xe9' in position 1606: character maps to <undefined>\n"
     ]
    }
   ],
   "source": [
    "%run gemini.py"
   ],
   "metadata": {
    "collapsed": false,
    "ExecuteTime": {
     "end_time": "2024-05-13T18:06:31.769818800Z",
     "start_time": "2024-05-13T17:56:02.012187500Z"
    }
   },
   "id": "3a5fc95dcf761db6",
   "execution_count": 73
  },
  {
   "cell_type": "code",
   "outputs": [],
   "source": [
    "def fix_row(row):\n",
    "    row = re.sub(r'\\s*,\\s*(?![^[]*\\])', ',', row)  # Handle commas outside brackets\n",
    "    row = re.sub(r'\\s*,\\s*(?![^\"]*\")', ',', row)  # Handle commas outside double quotes\n",
    "    \n",
    "    row_io = StringIO(row)\n",
    "    reader = csv.reader(row_io, delimiter=',')\n",
    "    new_row = list(reader)[0]\n",
    "    if len(new_row)>8:\n",
    "        for i in range(8,len(new_row)):\n",
    "            new_row[7] += new_row[i]\n",
    "    new_row = new_row[:8]\n",
    "\n",
    "    return new_row"
   ],
   "metadata": {
    "collapsed": false,
    "ExecuteTime": {
     "end_time": "2024-05-21T19:15:04.853592100Z",
     "start_time": "2024-05-21T19:15:04.845765100Z"
    }
   },
   "id": "a8ea694fe533803f",
   "execution_count": 2
  },
  {
   "cell_type": "code",
   "execution_count": 3,
   "id": "initial_id",
   "metadata": {
    "collapsed": true,
    "ExecuteTime": {
     "end_time": "2024-05-21T19:15:35.041478200Z",
     "start_time": "2024-05-21T19:15:33.791129600Z"
    }
   },
   "outputs": [
    {
     "name": "stdout",
     "output_type": "stream",
     "text": [
      "``````csv did not enter the data set not enter the data set\n",
      "``````csv did not enter the data set not enter the data set\n",
      "``````csv did not enter the data set not enter the data set\n",
      "``````csv did not enter the data set not enter the data set\n",
      "``````csv did not enter the data set not enter the data set\n",
      "``````csv did not enter the data set not enter the data set\n",
      "``````csv did not enter the data set not enter the data set\n",
      "``````csv did not enter the data set not enter the data set\n",
      "``````csv did not enter the data set not enter the data set\n",
      "``````csv did not enter the data set not enter the data set\n",
      "``````csv did not enter the data set not enter the data set\n",
      "``````csv did not enter the data set not enter the data set\n",
      "``````csv did not enter the data set not enter the data set\n",
      "``````csv did not enter the data set not enter the data set\n",
      "``````csv did not enter the data set not enter the data set\n",
      "``````csv did not enter the data set not enter the data set\n",
      "``````csv did not enter the data set not enter the data set\n",
      "``````csv did not enter the data set not enter the data set\n",
      "``````csv did not enter the data set not enter the data set\n",
      "``````csv did not enter the data set not enter the data set\n",
      "``````csv did not enter the data set not enter the data set\n",
      "``````csv did not enter the data set not enter the data set\n",
      "``````csv did not enter the data set not enter the data set\n",
      "``````csv did not enter the data set not enter the data set\n",
      "``````csv did not enter the data set not enter the data set\n",
      "``````csv did not enter the data set not enter the data set\n",
      "``````csv did not enter the data set not enter the data set\n",
      "``````csv did not enter the data set not enter the data set\n",
      "``````csv did not enter the data set not enter the data set\n",
      "``````csv did not enter the data set not enter the data set\n",
      "``````csv did not enter the data set not enter the data set\n",
      "``````csv did not enter the data set not enter the data set\n",
      "``````csv did not enter the data set not enter the data set\n",
      "``````csv did not enter the data set not enter the data set\n",
      "``````csv did not enter the data set not enter the data set\n",
      "``````csv did not enter the data set not enter the data set\n",
      "``````csv did not enter the data set not enter the data set\n"
     ]
    },
    {
     "data": {
      "text/plain": "     Target audience                Product or Service General domain  \\\n0              Women         Artisanal scented candles     Home decor   \n1                Men       High-performance headphones     Technology   \n2              Women         Organic skincare products         Beauty   \n3                Men            Adventure travel tours         Travel   \n4              Women  Subscription box for book lovers     Literature   \n...              ...                               ...            ...   \n2421             Men                     Shaving Cream       Grooming   \n2422           Women                    Luxury Handbag        Fashion   \n2423             Men                      Coffee Beans           Food   \n2424           Women                          Yoga Mat       Wellness   \n2425             Men                     Running Shoes         Sports   \n\n     Aggressiveness level                      Advertisement text - headline  \\\n0                       2  Find Your Inner Peace: Light Up Our Exquisite ...   \n1                       4  Unleash the Beast: Headphones Engineered for A...   \n2                       3  Reveal Your Natural Radiance: Embrace Organic ...   \n3                       5          Conquer Your Fears: Epic Adventures Await   \n4                       1  Indulge Your Literary Passion: Unbox a World o...   \n...                   ...                                                ...   \n2421                    3                         The Art of a Perfect Shave   \n2422                    2             Timeless Elegance for the Modern Woman   \n2423                    5                         Unleash Your Inner Barista   \n2424                    1                                   Find Your Center   \n2425                    4                                   Push Your Limits   \n\n                              Advertisement text - body Visual Style and Tone  \\\n0     Escape the everyday hustle and immerse yoursel...                Serene   \n1     Experience sound like never before with our re...                  Bold   \n2     Our luxurious,certified organic skincare line ...               Elegant   \n3     Break free from the ordinary and embark on an ...                Daring   \n4     Discover new literary treasures every month wi...              Charming   \n...                                                 ...                   ...   \n2421  Experience the ultimate in shaving luxury with...               Classic   \n2422  Elevate your style with our collection of exqu...                  Chic   \n2423  Awaken your senses with the rich,bold aroma of...               Intense   \n2424  Embrace your practice with our eco-friendly yo...                Serene   \n2425  Achieve your peak performance with our high-pe...               Dynamic   \n\n                                                  Image  \n0     Image of a burning candle with soft,warm light...  \n1     Image of sleek,black headphones against a dark...  \n2     Image of a collection of skincare products bea...  \n3     Image of a rugged mountain peak with a clear b...  \n4     Image of a beautifully wrapped book box with a...  \n...                                                 ...  \n2421  A silver shaving brush with a dollop of white ...  \n2422  A close-up shot of a structured leather handba...  \n2423  A burlap sack overflowing with darkroasted cof...  \n2424  A rolled-up yoga mat in a soft lavender huepla...  \n2425  A pair of vibrant running shoes with a sleekae...  \n\n[2426 rows x 8 columns]",
      "text/html": "<div>\n<style scoped>\n    .dataframe tbody tr th:only-of-type {\n        vertical-align: middle;\n    }\n\n    .dataframe tbody tr th {\n        vertical-align: top;\n    }\n\n    .dataframe thead th {\n        text-align: right;\n    }\n</style>\n<table border=\"1\" class=\"dataframe\">\n  <thead>\n    <tr style=\"text-align: right;\">\n      <th></th>\n      <th>Target audience</th>\n      <th>Product or Service</th>\n      <th>General domain</th>\n      <th>Aggressiveness level</th>\n      <th>Advertisement text - headline</th>\n      <th>Advertisement text - body</th>\n      <th>Visual Style and Tone</th>\n      <th>Image</th>\n    </tr>\n  </thead>\n  <tbody>\n    <tr>\n      <th>0</th>\n      <td>Women</td>\n      <td>Artisanal scented candles</td>\n      <td>Home decor</td>\n      <td>2</td>\n      <td>Find Your Inner Peace: Light Up Our Exquisite ...</td>\n      <td>Escape the everyday hustle and immerse yoursel...</td>\n      <td>Serene</td>\n      <td>Image of a burning candle with soft,warm light...</td>\n    </tr>\n    <tr>\n      <th>1</th>\n      <td>Men</td>\n      <td>High-performance headphones</td>\n      <td>Technology</td>\n      <td>4</td>\n      <td>Unleash the Beast: Headphones Engineered for A...</td>\n      <td>Experience sound like never before with our re...</td>\n      <td>Bold</td>\n      <td>Image of sleek,black headphones against a dark...</td>\n    </tr>\n    <tr>\n      <th>2</th>\n      <td>Women</td>\n      <td>Organic skincare products</td>\n      <td>Beauty</td>\n      <td>3</td>\n      <td>Reveal Your Natural Radiance: Embrace Organic ...</td>\n      <td>Our luxurious,certified organic skincare line ...</td>\n      <td>Elegant</td>\n      <td>Image of a collection of skincare products bea...</td>\n    </tr>\n    <tr>\n      <th>3</th>\n      <td>Men</td>\n      <td>Adventure travel tours</td>\n      <td>Travel</td>\n      <td>5</td>\n      <td>Conquer Your Fears: Epic Adventures Await</td>\n      <td>Break free from the ordinary and embark on an ...</td>\n      <td>Daring</td>\n      <td>Image of a rugged mountain peak with a clear b...</td>\n    </tr>\n    <tr>\n      <th>4</th>\n      <td>Women</td>\n      <td>Subscription box for book lovers</td>\n      <td>Literature</td>\n      <td>1</td>\n      <td>Indulge Your Literary Passion: Unbox a World o...</td>\n      <td>Discover new literary treasures every month wi...</td>\n      <td>Charming</td>\n      <td>Image of a beautifully wrapped book box with a...</td>\n    </tr>\n    <tr>\n      <th>...</th>\n      <td>...</td>\n      <td>...</td>\n      <td>...</td>\n      <td>...</td>\n      <td>...</td>\n      <td>...</td>\n      <td>...</td>\n      <td>...</td>\n    </tr>\n    <tr>\n      <th>2421</th>\n      <td>Men</td>\n      <td>Shaving Cream</td>\n      <td>Grooming</td>\n      <td>3</td>\n      <td>The Art of a Perfect Shave</td>\n      <td>Experience the ultimate in shaving luxury with...</td>\n      <td>Classic</td>\n      <td>A silver shaving brush with a dollop of white ...</td>\n    </tr>\n    <tr>\n      <th>2422</th>\n      <td>Women</td>\n      <td>Luxury Handbag</td>\n      <td>Fashion</td>\n      <td>2</td>\n      <td>Timeless Elegance for the Modern Woman</td>\n      <td>Elevate your style with our collection of exqu...</td>\n      <td>Chic</td>\n      <td>A close-up shot of a structured leather handba...</td>\n    </tr>\n    <tr>\n      <th>2423</th>\n      <td>Men</td>\n      <td>Coffee Beans</td>\n      <td>Food</td>\n      <td>5</td>\n      <td>Unleash Your Inner Barista</td>\n      <td>Awaken your senses with the rich,bold aroma of...</td>\n      <td>Intense</td>\n      <td>A burlap sack overflowing with darkroasted cof...</td>\n    </tr>\n    <tr>\n      <th>2424</th>\n      <td>Women</td>\n      <td>Yoga Mat</td>\n      <td>Wellness</td>\n      <td>1</td>\n      <td>Find Your Center</td>\n      <td>Embrace your practice with our eco-friendly yo...</td>\n      <td>Serene</td>\n      <td>A rolled-up yoga mat in a soft lavender huepla...</td>\n    </tr>\n    <tr>\n      <th>2425</th>\n      <td>Men</td>\n      <td>Running Shoes</td>\n      <td>Sports</td>\n      <td>4</td>\n      <td>Push Your Limits</td>\n      <td>Achieve your peak performance with our high-pe...</td>\n      <td>Dynamic</td>\n      <td>A pair of vibrant running shoes with a sleekae...</td>\n    </tr>\n  </tbody>\n</table>\n<p>2426 rows × 8 columns</p>\n</div>"
     },
     "execution_count": 3,
     "metadata": {},
     "output_type": "execute_result"
    }
   ],
   "source": [
    "def extract_csv_data(file_path):\n",
    "    start_marker ='Target audience,Product or Service,General domain,Aggressiveness level,Advertisement text - headline,Advertisement text - body,Visual Style and Tone,Image'\n",
    "    df=pd.DataFrame(columns=start_marker.split(','))\n",
    "    end_marker = \"```\"\n",
    "    capture = False\n",
    "    \n",
    "    with open(file_path, 'r') as file:\n",
    "        for line in file:\n",
    "            clean_line = line.strip()\n",
    "            \n",
    "            if clean_line == start_marker:\n",
    "                capture = True\n",
    "                continue\n",
    "            \n",
    "            if clean_line == end_marker:\n",
    "                capture = False\n",
    "            \n",
    "            if capture:\n",
    "                new_ads=fix_row(clean_line)\n",
    "                try:\n",
    "                    df.loc[len(df)]=new_ads\n",
    "                except Exception:\n",
    "                    print(clean_line, 'did not enter the data set not enter the data set')\n",
    "                    \n",
    "        return df\n",
    "# Usage\n",
    "file_path = 'gemini_ads.txt'\n",
    "adsss = extract_csv_data(file_path)\n",
    "# adsss.to_csv('adsss.csv')÷\n",
    "adsss"
   ]
  },
  {
   "cell_type": "code",
   "outputs": [
    {
     "data": {
      "text/plain": "     Target audience                Product or Service General domain  \\\n0              Women         Artisanal scented candles     Home decor   \n1                Men       High-performance headphones     Technology   \n2              Women         Organic skincare products         Beauty   \n3                Men            Adventure travel tours         Travel   \n4              Women  Subscription box for book lovers     Literature   \n...              ...                               ...            ...   \n2421             Men                     Shaving Cream       Grooming   \n2422           Women                    Luxury Handbag        Fashion   \n2423             Men                      Coffee Beans           Food   \n2424           Women                          Yoga Mat       Wellness   \n2425             Men                     Running Shoes         Sports   \n\n     Aggressiveness level                      Advertisement text - headline  \\\n0                       2  Find Your Inner Peace: Light Up Our Exquisite ...   \n1                       4  Unleash the Beast: Headphones Engineered for A...   \n2                       3  Reveal Your Natural Radiance: Embrace Organic ...   \n3                       5          Conquer Your Fears: Epic Adventures Await   \n4                       1  Indulge Your Literary Passion: Unbox a World o...   \n...                   ...                                                ...   \n2421                    3                         The Art of a Perfect Shave   \n2422                    2             Timeless Elegance for the Modern Woman   \n2423                    5                         Unleash Your Inner Barista   \n2424                    1                                   Find Your Center   \n2425                    4                                   Push Your Limits   \n\n                              Advertisement text - body Visual Style and Tone  \\\n0     Escape the everyday hustle and immerse yoursel...                Serene   \n1     Experience sound like never before with our re...                  Bold   \n2     Our luxurious,certified organic skincare line ...               Elegant   \n3     Break free from the ordinary and embark on an ...                Daring   \n4     Discover new literary treasures every month wi...              Charming   \n...                                                 ...                   ...   \n2421  Experience the ultimate in shaving luxury with...               Classic   \n2422  Elevate your style with our collection of exqu...                  Chic   \n2423  Awaken your senses with the rich,bold aroma of...               Intense   \n2424  Embrace your practice with our eco-friendly yo...                Serene   \n2425  Achieve your peak performance with our high-pe...               Dynamic   \n\n                                                  Image  \n0     Image of a burning candle with soft,warm light...  \n1     Image of sleek,black headphones against a dark...  \n2     Image of a collection of skincare products bea...  \n3     Image of a rugged mountain peak with a clear b...  \n4     Image of a beautifully wrapped book box with a...  \n...                                                 ...  \n2421  A silver shaving brush with a dollop of white ...  \n2422  A close-up shot of a structured leather handba...  \n2423  A burlap sack overflowing with darkroasted cof...  \n2424  A rolled-up yoga mat in a soft lavender huepla...  \n2425  A pair of vibrant running shoes with a sleekae...  \n\n[2426 rows x 8 columns]",
      "text/html": "<div>\n<style scoped>\n    .dataframe tbody tr th:only-of-type {\n        vertical-align: middle;\n    }\n\n    .dataframe tbody tr th {\n        vertical-align: top;\n    }\n\n    .dataframe thead th {\n        text-align: right;\n    }\n</style>\n<table border=\"1\" class=\"dataframe\">\n  <thead>\n    <tr style=\"text-align: right;\">\n      <th></th>\n      <th>Target audience</th>\n      <th>Product or Service</th>\n      <th>General domain</th>\n      <th>Aggressiveness level</th>\n      <th>Advertisement text - headline</th>\n      <th>Advertisement text - body</th>\n      <th>Visual Style and Tone</th>\n      <th>Image</th>\n    </tr>\n  </thead>\n  <tbody>\n    <tr>\n      <th>0</th>\n      <td>Women</td>\n      <td>Artisanal scented candles</td>\n      <td>Home decor</td>\n      <td>2</td>\n      <td>Find Your Inner Peace: Light Up Our Exquisite ...</td>\n      <td>Escape the everyday hustle and immerse yoursel...</td>\n      <td>Serene</td>\n      <td>Image of a burning candle with soft,warm light...</td>\n    </tr>\n    <tr>\n      <th>1</th>\n      <td>Men</td>\n      <td>High-performance headphones</td>\n      <td>Technology</td>\n      <td>4</td>\n      <td>Unleash the Beast: Headphones Engineered for A...</td>\n      <td>Experience sound like never before with our re...</td>\n      <td>Bold</td>\n      <td>Image of sleek,black headphones against a dark...</td>\n    </tr>\n    <tr>\n      <th>2</th>\n      <td>Women</td>\n      <td>Organic skincare products</td>\n      <td>Beauty</td>\n      <td>3</td>\n      <td>Reveal Your Natural Radiance: Embrace Organic ...</td>\n      <td>Our luxurious,certified organic skincare line ...</td>\n      <td>Elegant</td>\n      <td>Image of a collection of skincare products bea...</td>\n    </tr>\n    <tr>\n      <th>3</th>\n      <td>Men</td>\n      <td>Adventure travel tours</td>\n      <td>Travel</td>\n      <td>5</td>\n      <td>Conquer Your Fears: Epic Adventures Await</td>\n      <td>Break free from the ordinary and embark on an ...</td>\n      <td>Daring</td>\n      <td>Image of a rugged mountain peak with a clear b...</td>\n    </tr>\n    <tr>\n      <th>4</th>\n      <td>Women</td>\n      <td>Subscription box for book lovers</td>\n      <td>Literature</td>\n      <td>1</td>\n      <td>Indulge Your Literary Passion: Unbox a World o...</td>\n      <td>Discover new literary treasures every month wi...</td>\n      <td>Charming</td>\n      <td>Image of a beautifully wrapped book box with a...</td>\n    </tr>\n    <tr>\n      <th>...</th>\n      <td>...</td>\n      <td>...</td>\n      <td>...</td>\n      <td>...</td>\n      <td>...</td>\n      <td>...</td>\n      <td>...</td>\n      <td>...</td>\n    </tr>\n    <tr>\n      <th>2421</th>\n      <td>Men</td>\n      <td>Shaving Cream</td>\n      <td>Grooming</td>\n      <td>3</td>\n      <td>The Art of a Perfect Shave</td>\n      <td>Experience the ultimate in shaving luxury with...</td>\n      <td>Classic</td>\n      <td>A silver shaving brush with a dollop of white ...</td>\n    </tr>\n    <tr>\n      <th>2422</th>\n      <td>Women</td>\n      <td>Luxury Handbag</td>\n      <td>Fashion</td>\n      <td>2</td>\n      <td>Timeless Elegance for the Modern Woman</td>\n      <td>Elevate your style with our collection of exqu...</td>\n      <td>Chic</td>\n      <td>A close-up shot of a structured leather handba...</td>\n    </tr>\n    <tr>\n      <th>2423</th>\n      <td>Men</td>\n      <td>Coffee Beans</td>\n      <td>Food</td>\n      <td>5</td>\n      <td>Unleash Your Inner Barista</td>\n      <td>Awaken your senses with the rich,bold aroma of...</td>\n      <td>Intense</td>\n      <td>A burlap sack overflowing with darkroasted cof...</td>\n    </tr>\n    <tr>\n      <th>2424</th>\n      <td>Women</td>\n      <td>Yoga Mat</td>\n      <td>Wellness</td>\n      <td>1</td>\n      <td>Find Your Center</td>\n      <td>Embrace your practice with our eco-friendly yo...</td>\n      <td>Serene</td>\n      <td>A rolled-up yoga mat in a soft lavender huepla...</td>\n    </tr>\n    <tr>\n      <th>2425</th>\n      <td>Men</td>\n      <td>Running Shoes</td>\n      <td>Sports</td>\n      <td>4</td>\n      <td>Push Your Limits</td>\n      <td>Achieve your peak performance with our high-pe...</td>\n      <td>Dynamic</td>\n      <td>A pair of vibrant running shoes with a sleekae...</td>\n    </tr>\n  </tbody>\n</table>\n<p>2426 rows × 8 columns</p>\n</div>"
     },
     "execution_count": 4,
     "metadata": {},
     "output_type": "execute_result"
    }
   ],
   "source": [
    "\n",
    "adsss"
   ],
   "metadata": {
    "collapsed": false,
    "ExecuteTime": {
     "end_time": "2024-05-21T19:15:37.125001100Z",
     "start_time": "2024-05-21T19:15:37.103260900Z"
    }
   },
   "id": "27c703a9b0564e39",
   "execution_count": 4
  },
  {
   "cell_type": "code",
   "outputs": [],
   "source": [
    "adsss.to_csv('ads.csv')"
   ],
   "metadata": {
    "collapsed": false,
    "ExecuteTime": {
     "end_time": "2024-05-21T19:19:08.812739800Z",
     "start_time": "2024-05-21T19:19:08.785498600Z"
    }
   },
   "id": "7c1a780bff607c1b",
   "execution_count": 6
  },
  {
   "cell_type": "code",
   "outputs": [],
   "source": [],
   "metadata": {
    "collapsed": false
   },
   "id": "fded58ab132ddfe4"
  }
 ],
 "metadata": {
  "kernelspec": {
   "display_name": "Python 3",
   "language": "python",
   "name": "python3"
  },
  "language_info": {
   "codemirror_mode": {
    "name": "ipython",
    "version": 2
   },
   "file_extension": ".py",
   "mimetype": "text/x-python",
   "name": "python",
   "nbconvert_exporter": "python",
   "pygments_lexer": "ipython2",
   "version": "2.7.6"
  }
 },
 "nbformat": 4,
 "nbformat_minor": 5
}
